{
  "cells": [
    {
      "cell_type": "markdown",
      "metadata": {
        "id": "view-in-github",
        "colab_type": "text"
      },
      "source": [
        "<a href=\"https://colab.research.google.com/github/dey-hritam/ML-Projects/blob/main/Image_Classification_CNN.ipynb\" target=\"_parent\"><img src=\"https://colab.research.google.com/assets/colab-badge.svg\" alt=\"Open In Colab\"/></a>"
      ]
    },
    {
      "cell_type": "code",
      "execution_count": null,
      "metadata": {
        "id": "QsUTG-RwjBtG"
      },
      "outputs": [],
      "source": [
        "import numpy as np\n",
        "import matplotlib.pyplot as plt\n",
        "import tensorflow as tf\n",
        "from keras.layers import Flatten,Dense,Conv2D,MaxPooling2D\n",
        "from keras.models import Sequential\n"
      ]
    },
    {
      "cell_type": "code",
      "execution_count": null,
      "metadata": {
        "colab": {
          "base_uri": "https://localhost:8080/"
        },
        "id": "9ZZQu8gWkK7c",
        "outputId": "8d8bd379-a77e-46c5-a7a9-72e0b4e2ed82"
      },
      "outputs": [
        {
          "data": {
            "text/plain": [
              "(50000, 32, 32, 3)"
            ]
          },
          "execution_count": 13,
          "metadata": {},
          "output_type": "execute_result"
        }
      ],
      "source": [
        "image_mnist=tf.keras.datasets.cifar10\n",
        "(X_train,y_train),(X_test,y_test)=image_mnist.load_data()\n",
        "\n",
        "X_train.shape"
      ]
    },
    {
      "cell_type": "code",
      "execution_count": null,
      "metadata": {
        "colab": {
          "base_uri": "https://localhost:8080/"
        },
        "id": "5z7_w80gmQOF",
        "outputId": "9641411a-a6ca-47d8-ce73-4bfaea923efa"
      },
      "outputs": [
        {
          "data": {
            "text/plain": [
              "(10000, 32, 32, 3)"
            ]
          },
          "execution_count": 14,
          "metadata": {},
          "output_type": "execute_result"
        }
      ],
      "source": [
        "X_test.shape"
      ]
    },
    {
      "cell_type": "code",
      "execution_count": null,
      "metadata": {
        "colab": {
          "base_uri": "https://localhost:8080/"
        },
        "id": "PM7xhNQBop2p",
        "outputId": "f18513be-2daa-42e6-9992-c92a1905b224"
      },
      "outputs": [
        {
          "data": {
            "text/plain": [
              "array([[6],\n",
              "       [9],\n",
              "       [9],\n",
              "       [4],\n",
              "       [1]], dtype=uint8)"
            ]
          },
          "execution_count": 15,
          "metadata": {},
          "output_type": "execute_result"
        }
      ],
      "source": [
        "y_train[:5]\n"
      ]
    },
    {
      "cell_type": "code",
      "execution_count": null,
      "metadata": {
        "colab": {
          "base_uri": "https://localhost:8080/"
        },
        "id": "Np1QLwQ2pHnU",
        "outputId": "22438585-49c7-4168-ec16-d1f9b900d5eb"
      },
      "outputs": [
        {
          "data": {
            "text/plain": [
              "array([6, 9, 9, 4, 1], dtype=uint8)"
            ]
          },
          "execution_count": 16,
          "metadata": {},
          "output_type": "execute_result"
        }
      ],
      "source": [
        "y_train=y_train.reshape(-1,)\n",
        "y_train[:5]"
      ]
    },
    {
      "cell_type": "code",
      "execution_count": null,
      "metadata": {
        "id": "IfF3sJG0oRUs"
      },
      "outputs": [],
      "source": [
        "classes=['airplane','automobile','bird','cat','deer','dog','frog','horse','ship','truck']"
      ]
    },
    {
      "cell_type": "code",
      "execution_count": null,
      "metadata": {
        "id": "p7cqjznImZcD"
      },
      "outputs": [],
      "source": [
        "def plot_sample(X,y,index):\n",
        "\n",
        "  plt.figure(figsize=(15,2))\n",
        "  plt.imshow(X[index])\n",
        "  plt.title(classes[y[index]])"
      ]
    },
    {
      "cell_type": "code",
      "execution_count": null,
      "metadata": {
        "colab": {
          "base_uri": "https://localhost:8080/",
          "height": 237
        },
        "id": "h2vr0NGNp61p",
        "outputId": "7af13dde-2c42-4f03-a44e-1487ba07c562"
      },
      "outputs": [
        {
          "data": {
            "image/png": "[encoded data removed]",
            "text/plain": [
              "<Figure size 1500x200 with 1 Axes>"
            ]
          },
          "metadata": {},
          "output_type": "display_data"
        }
      ],
      "source": [
        "plot_sample(X_train,y_train,0)"
      ]
    },
    {
      "cell_type": "code",
      "execution_count": null,
      "metadata": {
        "colab": {
          "base_uri": "https://localhost:8080/",
          "height": 237
        },
        "id": "MNaUW_BdrHdE",
        "outputId": "02032d59-283e-48fe-bb6c-c03722a01eda"
      },
      "outputs": [
        {
          "data": {
            "image/png": "[encoded data removed]",
            "text/plain": [
              "<Figure size 1500x200 with 1 Axes>"
            ]
          },
          "metadata": {},
          "output_type": "display_data"
        }
      ],
      "source": [
        "plot_sample(X_train,y_train,3)"
      ]
    },
    {
      "cell_type": "code",
      "execution_count": null,
      "metadata": {
        "id": "Ia5GIF3IrmyV"
      },
      "outputs": [],
      "source": [
        "X_train=X_train.astype('float32')\n",
        "X_test=X_test.astype('float32')\n",
        "\n",
        "X_train/=255\n",
        "X_test/=255"
      ]
    },
    {
      "cell_type": "code",
      "execution_count": null,
      "metadata": {
        "colab": {
          "base_uri": "https://localhost:8080/"
        },
        "id": "0TGna0jLtTjI",
        "outputId": "37375fe3-1ebc-48f4-8709-79188e0c5079"
      },
      "outputs": [
        {
          "name": "stdout",
          "output_type": "stream",
          "text": [
            "Epoch 1/5\n",
            "391/391 [==============================] - 84s 214ms/step - loss: 1.9186 - accuracy: 0.3195\n",
            "Epoch 2/5\n",
            "391/391 [==============================] - 100s 257ms/step - loss: 1.7526 - accuracy: 0.3829\n",
            "Epoch 3/5\n",
            "391/391 [==============================] - 80s 206ms/step - loss: 1.6832 - accuracy: 0.4131\n",
            "Epoch 4/5\n",
            "391/391 [==============================] - 83s 213ms/step - loss: 1.6338 - accuracy: 0.4283\n",
            "Epoch 5/5\n",
            "391/391 [==============================] - 78s 201ms/step - loss: 1.5937 - accuracy: 0.4439\n"
          ]
        },
        {
          "data": {
            "text/plain": [
              "<keras.callbacks.History at 0x79031cb76cb0>"
            ]
          },
          "execution_count": 22,
          "metadata": {},
          "output_type": "execute_result"
        }
      ],
      "source": [
        "model=Sequential([\n",
        "    Flatten(input_shape=(32,32,3)),\n",
        "    Dense(3000,activation='relu'),\n",
        "    Dense(1000,activation='relu'),\n",
        "    Dense(10,activation='sigmoid')\n",
        "])\n",
        "\n",
        "model.compile(\n",
        "    loss='sparse_categorical_crossentropy',\n",
        "    optimizer='SGD',\n",
        "    metrics=['accuracy']\n",
        ")\n",
        "\n",
        "\n",
        "model.fit(X_train,y_train,epochs=5,batch_size=128)"
      ]
    },
    {
      "cell_type": "code",
      "execution_count": null,
      "metadata": {
        "colab": {
          "background_save": true,
          "base_uri": "https://localhost:8080/"
        },
        "id": "4QI1pacWxp2B",
        "outputId": "2a95a583-f35f-4b23-c3ff-bb8f6928dbbe"
      },
      "outputs": [
        {
          "name": "stdout",
          "output_type": "stream",
          "text": [
            "Epoch 1/20\n",
            "1563/1563 [==============================] - 40s 25ms/step - loss: 1.8811 - accuracy: 0.3239\n",
            "Epoch 2/20\n",
            "1563/1563 [==============================] - 40s 26ms/step - loss: 1.5341 - accuracy: 0.4572\n",
            "Epoch 3/20\n",
            "1563/1563 [==============================] - 37s 24ms/step - loss: 1.3630 - accuracy: 0.5208\n",
            "Epoch 4/20\n",
            "1563/1563 [==============================] - 37s 24ms/step - loss: 1.2629 - accuracy: 0.5564\n",
            "Epoch 5/20\n",
            "1563/1563 [==============================] - 38s 24ms/step - loss: 1.1949 - accuracy: 0.5818\n",
            "Epoch 6/20\n",
            "1563/1563 [==============================] - 37s 24ms/step - loss: 1.1397 - accuracy: 0.6026\n",
            "Epoch 7/20\n",
            "1563/1563 [==============================] - 41s 26ms/step - loss: 1.0912 - accuracy: 0.6191\n",
            "Epoch 8/20\n",
            "1563/1563 [==============================] - 38s 24ms/step - loss: 1.0469 - accuracy: 0.6371\n",
            "Epoch 9/20\n",
            "1563/1563 [==============================] - 37s 24ms/step - loss: 1.0059 - accuracy: 0.6491\n",
            "Epoch 10/20\n",
            "1563/1563 [==============================] - 38s 24ms/step - loss: 0.9691 - accuracy: 0.6640\n",
            "Epoch 11/20\n",
            "1563/1563 [==============================] - 39s 25ms/step - loss: 0.9345 - accuracy: 0.6753\n",
            "Epoch 12/20\n",
            "1563/1563 [==============================] - 39s 25ms/step - loss: 0.9025 - accuracy: 0.6874\n",
            "Epoch 13/20\n",
            "1563/1563 [==============================] - 38s 24ms/step - loss: 0.8718 - accuracy: 0.6970\n",
            "Epoch 14/20\n",
            "1563/1563 [==============================] - 38s 25ms/step - loss: 0.8414 - accuracy: 0.7098\n",
            "Epoch 15/20\n",
            "1563/1563 [==============================] - 38s 24ms/step - loss: 0.8153 - accuracy: 0.7167\n",
            "Epoch 16/20\n",
            "1563/1563 [==============================] - 37s 24ms/step - loss: 0.7894 - accuracy: 0.7269\n",
            "Epoch 17/20\n",
            "1563/1563 [==============================] - 39s 25ms/step - loss: 0.7605 - accuracy: 0.7362\n",
            "Epoch 18/20\n",
            "1563/1563 [==============================] - 39s 25ms/step - loss: 0.7351 - accuracy: 0.7467\n",
            "Epoch 19/20\n",
            "1563/1563 [==============================] - 40s 25ms/step - loss: 0.7111 - accuracy: 0.7554\n",
            "Epoch 20/20\n",
            "1563/1563 [==============================] - 38s 25ms/step - loss: 0.6858 - accuracy: 0.7633\n"
          ]
        },
        {
          "data": {
            "text/plain": [
              "<keras.callbacks.History at 0x79031cc3b310>"
            ]
          },
          "execution_count": 23,
          "metadata": {},
          "output_type": "execute_result"
        }
      ],
      "source": [
        "cnn=Sequential([\n",
        "    #Convultion Neural Network.\n",
        "    Conv2D(filters=32,kernel_size=(3,3),activation='relu',input_shape=(32,32,3)),\n",
        "    MaxPooling2D(2,2),\n",
        "    #Dense\n",
        "    Flatten(),\n",
        "    Dense(64,activation='relu'),\n",
        "    Dense(10,activation='softmax')\n",
        "])\n",
        "\n",
        "cnn.compile(\n",
        "    loss='sparse_categorical_crossentropy',\n",
        "    optimizer='SGD',\n",
        "    metrics=['accuracy']\n",
        ")\n",
        "\n",
        "\n",
        "cnn.fit(X_train,y_train,epochs=20,batch_size=128)"
      ]
    },
    {
      "cell_type": "code",
      "execution_count": null,
      "metadata": {
        "colab": {
          "background_save": true
        },
        "id": "ExTTKvOP2GGG",
        "outputId": "2e1d2fa2-88f3-4cce-ec31-705d6fa43f48"
      },
      "outputs": [
        {
          "name": "stdout",
          "output_type": "stream",
          "text": [
            "313/313 [==============================] - 3s 10ms/step - loss: 1.0448 - accuracy: 0.6517\n"
          ]
        },
        {
          "data": {
            "text/plain": [
              "[1.0447583198547363, 0.6517000198364258]"
            ]
          },
          "execution_count": 24,
          "metadata": {},
          "output_type": "execute_result"
        }
      ],
      "source": [
        "test_loss,test_accuracy=cnn.evaluate(X_test,y_test,verbose=2)"
      ]
    },
    {
      "cell_type": "code",
      "execution_count": null,
      "metadata": {
        "colab": {
          "background_save": true
        },
        "id": "MIgfSfan2N-H",
        "outputId": "ee8c8eda-34be-4319-8f85-62319b8fef78"
      },
      "outputs": [
        {
          "data": {
            "text/plain": [
              "array([3, 8, 8, 0, 6], dtype=uint8)"
            ]
          },
          "execution_count": 25,
          "metadata": {},
          "output_type": "execute_result"
        }
      ],
      "source": [
        "y_test=y_test.reshape(-1,)\n",
        "y_test[:5]"
      ]
    },
    {
      "cell_type": "code",
      "execution_count": null,
      "metadata": {
        "colab": {
          "background_save": true
        },
        "id": "ILw5bwWs2nWa",
        "outputId": "ec864cba-297f-40b1-d58c-b4754d5d6337"
      },
      "outputs": [
        {
          "data": {
            "image/png": "[encoded data removed]",
            "text/plain": [
              "<Figure size 1500x200 with 1 Axes>"
            ]
          },
          "metadata": {},
          "output_type": "display_data"
        }
      ],
      "source": [
        "plot_sample(X_test,y_test,1)"
      ]
    },
    {
      "cell_type": "code",
      "execution_count": null,
      "metadata": {
        "colab": {
          "background_save": true
        },
        "id": "NCPZCRoZ2nce",
        "outputId": "83509d24-dd3f-4e44-c00c-0d7ef95582aa"
      },
      "outputs": [
        {
          "name": "stdout",
          "output_type": "stream",
          "text": [
            "313/313 [==============================] - 3s 9ms/step\n"
          ]
        },
        {
          "data": {
            "text/plain": [
              "array([[2.22302115e-04, 6.24695167e-05, 1.92097155e-03, 7.60753393e-01,\n",
              "        3.82493774e-04, 2.17036426e-01, 5.40150935e-03, 1.18188024e-03,\n",
              "        1.27014369e-02, 3.36965168e-04],\n",
              "       [4.00217250e-02, 7.07790017e-01, 2.50124704e-05, 2.88226886e-07,\n",
              "        2.35351081e-06, 3.84720011e-07, 8.99195953e-08, 1.86742000e-07,\n",
              "        2.36259282e-01, 1.59006231e-02],\n",
              "       [6.49993002e-01, 1.40201999e-02, 2.03843252e-03, 7.34767353e-04,\n",
              "        5.85378497e-04, 1.96692185e-04, 4.58369832e-05, 5.81599830e-04,\n",
              "        3.08057994e-01, 2.37460695e-02],\n",
              "       [7.73522854e-01, 2.30897889e-02, 7.56504387e-02, 7.79167400e-04,\n",
              "        1.47405900e-02, 1.34974252e-04, 1.46229097e-04, 1.59134419e-04,\n",
              "        1.09533556e-01, 2.24321382e-03],\n",
              "       [7.18571016e-08, 7.02773423e-06, 1.22710541e-02, 1.95211425e-01,\n",
              "        6.53021991e-01, 1.28648547e-03, 1.38161525e-01, 1.60803779e-06,\n",
              "        3.59631122e-05, 2.84449152e-06]], dtype=float32)"
            ]
          },
          "execution_count": 27,
          "metadata": {},
          "output_type": "execute_result"
        }
      ],
      "source": [
        "y_predict=cnn.predict(X_test)\n",
        "y_predict[:5]"
      ]
    },
    {
      "cell_type": "code",
      "execution_count": null,
      "metadata": {
        "colab": {
          "background_save": true
        },
        "id": "CZh_rfq63Wt9",
        "outputId": "471bf777-23bd-47ca-a0c7-a253c105402f"
      },
      "outputs": [
        {
          "data": {
            "text/plain": [
              "[3, 1, 0, 0, 4]"
            ]
          },
          "execution_count": 28,
          "metadata": {},
          "output_type": "execute_result"
        }
      ],
      "source": [
        "y_classes=[np.argmax(element)for element in y_predict]\n",
        "y_classes[:5]"
      ]
    },
    {
      "cell_type": "code",
      "execution_count": null,
      "metadata": {
        "colab": {
          "background_save": true
        },
        "id": "nCumEZBX4sH7",
        "outputId": "dd82d7dc-1f5a-44bc-fc04-e1b5b7c72f19"
      },
      "outputs": [
        {
          "data": {
            "text/plain": [
              "array([3, 8, 8, 0, 6], dtype=uint8)"
            ]
          },
          "execution_count": 29,
          "metadata": {},
          "output_type": "execute_result"
        }
      ],
      "source": [
        "y_test[:5]"
      ]
    },
    {
      "cell_type": "code",
      "execution_count": null,
      "metadata": {
        "colab": {
          "background_save": true
        },
        "id": "mMgeivRd5KDH",
        "outputId": "fb545c2b-abc9-4aef-b2a4-4228bf629a2b"
      },
      "outputs": [
        {
          "data": {
            "image/png": "[encoded data removed]",
            "text/plain": [
              "<Figure size 1500x200 with 1 Axes>"
            ]
          },
          "metadata": {},
          "output_type": "display_data"
        }
      ],
      "source": [
        "plot_sample(X_test,y_test,0)"
      ]
    },
    {
      "cell_type": "code",
      "execution_count": null,
      "metadata": {
        "colab": {
          "background_save": true
        },
        "id": "TRuxoGVg6tRu",
        "outputId": "a2eecbd1-1a27-4ace-8bf8-850c6f775c1b"
      },
      "outputs": [
        {
          "data": {
            "application/vnd.google.colaboratory.intrinsic+json": {
              "type": "string"
            },
            "text/plain": [
              "'cat'"
            ]
          },
          "execution_count": 31,
          "metadata": {},
          "output_type": "execute_result"
        }
      ],
      "source": [
        "classes[y_classes[0]]"
      ]
    }
  ],
  "metadata": {
    "colab": {
      "provenance": [],
      "authorship_tag": "ABX9TyNLUCOifV07bXfJoCUpIbdU",
      "include_colab_link": true
    },
    "kernelspec": {
      "display_name": "Python 3",
      "name": "python3"
    },
    "language_info": {
      "name": "python"
    }
  },
  "nbformat": 4,
  "nbformat_minor": 0
}